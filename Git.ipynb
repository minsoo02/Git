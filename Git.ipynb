{
 "cells": [
  {
   "cell_type": "markdown",
   "metadata": {},
   "source": [
    "**[참고 : 동빈나 youtube](https://www.youtube.com/watch?v=rhP5pseOJc0)**"
   ]
  },
  {
   "cell_type": "markdown",
   "metadata": {},
   "source": [
    "**1. git 환경설정**"
   ]
  },
  {
   "cell_type": "markdown",
   "metadata": {},
   "source": [
    "- 셋팅한 config 리스트 확인  \n",
    "```git config --list```\n",
    "\n",
    "\n",
    "- config 셋팅 : name, email  \n",
    "- git은 커밋할 때마다 이 정보를 사용  \n",
    "- --global 옵션은 이 시스템에서는 이 config를 사용한다는 의미 : 매번 config를 설정해서 사용하고 싶으면 --global 옵션을 빼고 사용  \n",
    "```git config --global user.name minsoo```  \n",
    "```git config --global user.email rlaalstn1126@gmail.com```"
   ]
  },
  {
   "cell_type": "markdown",
   "metadata": {},
   "source": [
    "**2. git clone**"
   ]
  },
  {
   "cell_type": "markdown",
   "metadata": {},
   "source": [
    "- 내가 github에 만든 repository(remote repository)를 내 컴퓨터에 생긴 git 폴더(local repository)에 복제  \n",
    "- 복제하고 싶은 경로에 가서 아래 명령어 수행  \n",
    "- remote repository의 폴더가 local repository에 생김  \n",
    "```git clone https://github.com/minsoo02/git_test.git```\n",
    "\n",
    "```git add test1.ipynb```\n",
    "\n",
    "```git commit -m \"add test1\"```\n",
    "\n",
    "```git push```"
   ]
  },
  {
   "cell_type": "markdown",
   "metadata": {},
   "source": [
    "**3. git 원리**"
   ]
  },
  {
   "cell_type": "markdown",
   "metadata": {},
   "source": [
    "- Working Directory : 작업할 파일들이 존재하는 디렉토리\n",
    "- Git Directory : clone 했을 때 생성된 디렉토리. git 프로젝트의 메타 데이터와 데이터 정보가 기록\n",
    "- Staging Area : commit을 수행할 파일들이 올라가있는 영역"
   ]
  },
  {
   "attachments": {},
   "cell_type": "markdown",
   "metadata": {},
   "source": [
    "![git_flow](https://user-images.githubusercontent.com/49624407/89134489-adf03a00-d560-11ea-821a-3839d0068f12.jpeg)"
   ]
  },
  {
   "cell_type": "markdown",
   "metadata": {},
   "source": [
    "**4. git 명령어**"
   ]
  },
  {
   "cell_type": "markdown",
   "metadata": {},
   "source": [
    "```git pull``` : ```git fetch```와 ```git merge```를 한 번에  \n",
    "```git status``` : 파일들 상태 확인  \n",
    "```git add test2.ipynb``` : 파일을 Staging Area로 올림  \n",
    "```git reset test2.ipynb``` : ```git add test2.ipynb``` 취소. 파일을 Staging Area에서 Working Directory로 내림  \n",
    "```git add .``` : add 할 파일을 명시하지 않고, 수정된 모든 파일을 add 시킴  \n",
    "```git checkout -- test2.ipynb``` : remote repository에 있는 파일을 내려 받을 때. 수정 취소하고 싶을 때 사용  \n",
    "```git log``` : commit한 내역 확인. hash 값 확인 가능  \n",
    "```git reset --hard (hash값)``` : hash 값 상태로 되돌리기. hard 옵션을 사용해서 그 이후 commit은 모두 삭제  \n",
    "```git push -f``` : -f 옵션을 사용해서 강제로 push  \n",
    "```git commit --amend``` : commit 메시지 변경"
   ]
  },
  {
   "cell_type": "markdown",
   "metadata": {},
   "source": [
    "**5. git Branch**"
   ]
  },
  {
   "cell_type": "markdown",
   "metadata": {},
   "source": [
    "![git_branch](https://user-images.githubusercontent.com/49624407/89134694-e7757500-d561-11ea-8546-31b44def86f7.jpeg)"
   ]
  },
  {
   "cell_type": "markdown",
   "metadata": {},
   "source": [
    "- Master Branch : 항상 안정된 상태이고 언제든지 배포가 가능한 상태로 유지 (통합 브런치)\n",
    "- Develop Branch, Bug Fix Branch : (토픽 브런치)\n",
    "\n",
    "```git branch``` : branch 확인  \n",
    "```git branch develop``` : develop branch 생성  \n",
    "```git checkout develop``` : develop branch에 접속  \n",
    "```develop branch에서 수정```  \n",
    "```git add .```  \n",
    "```git commit -m \"develop branch\"```  \n",
    "```git checkout master``` : master branch에 develop branch를 merge시키기 위해 master에 접속  \n",
    "```git merge develop``` : develop merge  \n",
    "```git push```  \n",
    "```git branch -d develop``` : 기능이 끝난 develop branch 제거"
   ]
  },
  {
   "cell_type": "markdown",
   "metadata": {},
   "source": [
    "**6. git Conflict 처리**"
   ]
  },
  {
   "cell_type": "markdown",
   "metadata": {},
   "source": [
    "**7. git Remote Repository 관리**"
   ]
  },
  {
   "cell_type": "markdown",
   "metadata": {},
   "source": [
    "```git remote``` : 현재 remote repository 확인  \n",
    "```git remote show origin``` : origin이라는 remote repository 상태 확인  \n",
    "```git remote add test https://github.com/minsoo02/Kaggle.git``` : test라는 remote repo 추가  \n",
    "```git remote -v``` : remote repo 리스트 확인  \n",
    "```git remote rename test temp``` : test remote repo 이름 temp로 변경  \n",
    "```git remote rm temp``` : temp repo 제거"
   ]
  },
  {
   "cell_type": "markdown",
   "metadata": {},
   "source": [
    "**8. git Log**"
   ]
  },
  {
   "cell_type": "markdown",
   "metadata": {},
   "source": [
    "```git log --stat```  \n",
    "```git log -p -3``` : commit의 구체적 항목 확인(위에서 3개만)  \n",
    "```git log --pretty=oneline``` : commit 내역을 한 줄에 한 건씩 출력(pretty 옵션은 출력 형식을 정하는 옵션)  \n",
    "```git log --pretty=format:\"%h->%an, %ar:%s\" --graph```  "
   ]
  },
  {
   "cell_type": "markdown",
   "metadata": {},
   "source": [
    "**9. git README.md 작성**"
   ]
  },
  {
   "cell_type": "markdown",
   "metadata": {},
   "source": [
    "**10. git 소스코드만 압축**"
   ]
  },
  {
   "cell_type": "markdown",
   "metadata": {},
   "source": [
    "```git archive --format=zip master -o Master.zip```"
   ]
  },
  {
   "cell_type": "markdown",
   "metadata": {},
   "source": [
    "**11. git commit 수정/삭제**"
   ]
  },
  {
   "cell_type": "markdown",
   "metadata": {},
   "source": [
    "```git rebase -i HEAD~3``` : i옵션 -> 텍스트로 수정가능 / HEAD~3 -> 최근 3개까지 수정   \n",
    "```git rebase -i 5e8678dda37f3e34f1483f8f9d7b5c73773d955d```"
   ]
  },
  {
   "cell_type": "markdown",
   "metadata": {},
   "source": [
    "**12. git Config 환경설정**"
   ]
  }
 ],
 "metadata": {
  "kernelspec": {
   "display_name": "Python 3",
   "language": "python",
   "name": "python3"
  },
  "language_info": {
   "codemirror_mode": {
    "name": "ipython",
    "version": 3
   },
   "file_extension": ".py",
   "mimetype": "text/x-python",
   "name": "python",
   "nbconvert_exporter": "python",
   "pygments_lexer": "ipython3",
   "version": "3.7.6"
  },
  "toc": {
   "base_numbering": 1,
   "nav_menu": {},
   "number_sections": false,
   "sideBar": true,
   "skip_h1_title": false,
   "title_cell": "Table of Contents",
   "title_sidebar": "Contents",
   "toc_cell": false,
   "toc_position": {},
   "toc_section_display": true,
   "toc_window_display": false
  }
 },
 "nbformat": 4,
 "nbformat_minor": 2
}
